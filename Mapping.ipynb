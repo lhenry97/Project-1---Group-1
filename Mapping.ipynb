{
 "cells": [
  {
   "cell_type": "code",
   "execution_count": 8,
   "id": "58c19fbc-17a8-4bb5-9c46-b52842275139",
   "metadata": {},
   "outputs": [
    {
     "name": "stdout",
     "output_type": "stream",
     "text": [
      "Error: 401\n"
     ]
    }
   ],
   "source": [
    "#Set Up Your Environment:\n",
    "#Ensure you have the requests library installed:pip install requests\n",
    "#Define Your Source and Target Locations:\n",
    "#Your source location is the single point from which you want to measure distances.\n",
    "#Your target locations are the various points you want to categorize.\n",
    "\n",
    "#Make the API Request:\n",
    "#Use the requests library to send a POST request to the Route Matrix API endpoint. Here’s an example:\n",
    "\n",
    "import requests\n",
    "import json\n",
    "\n",
    "# Your Geoapify API key\n",
    "geoapify_key = '2d3934145ede4f1da1f6ebf9a91f7420'\n",
    "\n",
    "# Define the endpoint\n",
    "url = 'https://api.geoapify.com/v1/routematrix'\n",
    "# Define the request headers\n",
    "headers = {\n",
    "    'Content-Type': 'application/json'\n",
    "}\n",
    "\n",
    "\n",
    "# Define the request body\n",
    "body = {\n",
    "    'mode': 'drive',  # Travel mode: drive, walk, bicycle, etc.\n",
    "    'sources': [{'location': source_location}],\n",
    "    'targets': [{'location': loc} for loc in target_locations]\n",
    "}\n",
    "# Make the POST request\n",
    "\n",
    "response = requests.post(url, headers=headers, params={'': geoapify_key}, data=json.dumps(body))\n",
    "\n",
    "# Check the response status\n",
    "\n",
    "if response.status_code == 200:\n",
    "    # Parse the JSON response\n",
    "    data = response.json()\n",
    "    distances = data['distances'][0]  # Distances from the source to each target\n",
    "    for i, distance in enumerate(distances):\n",
    "        print(f\"Distance to target {i+1}: {distance / 1000} km\")  # Convert meters to kilometers\n",
    "else:\n",
    "    print(f\"Error: {response.status_code}\")\n"
   ]
  },
  {
   "cell_type": "code",
   "execution_count": null,
   "id": "d5f879f4-51af-4cf0-8142-a12ee0ee8a14",
   "metadata": {},
   "outputs": [],
   "source": [
    "# Define the source and target locations\n",
    "source_location = [144.9631, -37.8136]  # Melbourne coordinates\n",
    "target_locations = [\n",
    "    [144.9465, -37.8409],  # Example target 1\n",
    "    [144.9780, -37.8100],  # Example target 2\n",
    "    # Add more target locations as needed\n",
    "]\n"
   ]
  },
  {
   "cell_type": "code",
   "execution_count": null,
   "id": "afa3db01-360f-448e-a364-3656318f8f51",
   "metadata": {},
   "outputs": [],
   "source": []
  },
  {
   "cell_type": "code",
   "execution_count": 4,
   "id": "9b88826d-587c-411c-a899-4688d7c8b589",
   "metadata": {},
   "outputs": [
    {
     "ename": "NameError",
     "evalue": "name 'distances' is not defined",
     "output_type": "error",
     "traceback": [
      "\u001b[1;31m---------------------------------------------------------------------------\u001b[0m",
      "\u001b[1;31mNameError\u001b[0m                                 Traceback (most recent call last)",
      "Cell \u001b[1;32mIn[4], line 9\u001b[0m\n\u001b[0;32m      1\u001b[0m \u001b[38;5;66;03m#Categorize the Locations:\u001b[39;00m\n\u001b[0;32m      2\u001b[0m \u001b[38;5;66;03m#Once you have the distances, you can categorize the locations based on predefined distance ranges. For example:\u001b[39;00m\n\u001b[0;32m      4\u001b[0m categories \u001b[38;5;241m=\u001b[39m {\n\u001b[0;32m      5\u001b[0m     \u001b[38;5;124m'\u001b[39m\u001b[38;5;124mClose\u001b[39m\u001b[38;5;124m'\u001b[39m: [],\n\u001b[0;32m      6\u001b[0m     \u001b[38;5;124m'\u001b[39m\u001b[38;5;124mMedium\u001b[39m\u001b[38;5;124m'\u001b[39m: [],\n\u001b[0;32m      7\u001b[0m     \u001b[38;5;124m'\u001b[39m\u001b[38;5;124mFar\u001b[39m\u001b[38;5;124m'\u001b[39m: []\n\u001b[0;32m      8\u001b[0m }\n\u001b[1;32m----> 9\u001b[0m \u001b[38;5;28;01mfor\u001b[39;00m i, distance \u001b[38;5;129;01min\u001b[39;00m \u001b[38;5;28menumerate\u001b[39m(distances):\n\u001b[0;32m     10\u001b[0m     distance_km \u001b[38;5;241m=\u001b[39m distance \u001b[38;5;241m/\u001b[39m \u001b[38;5;241m1000\u001b[39m  \u001b[38;5;66;03m# Convert meters to kilometers\u001b[39;00m\n\u001b[0;32m     11\u001b[0m     \u001b[38;5;28;01mif\u001b[39;00m distance_km \u001b[38;5;241m<\u001b[39m \u001b[38;5;241m5\u001b[39m:\n",
      "\u001b[1;31mNameError\u001b[0m: name 'distances' is not defined"
     ]
    }
   ],
   "source": [
    "#Categorize the Locations:\n",
    "#Once you have the distances, you can categorize the locations based on predefined distance ranges. For example:\n",
    "\n",
    "categories = {\n",
    "    'Close': [],\n",
    "    'Medium': [],\n",
    "    'Far': []\n",
    "}\n",
    "for i, distance in enumerate(distances):\n",
    "    distance_km = distance / 1000  # Convert meters to kilometers\n",
    "    if distance_km < 5:\n",
    "        categories['Close'].append(target_locations[i])\n",
    "    elif distance_km < 20:\n",
    "        categories['Medium'].append(target_locations[i])\n",
    "    else:\n",
    "        categories['Far'].append(target_locations[i])\n",
    "print(\"Categorized locations:\")\n",
    "for category, locations in categories.items():\n",
    "    print(f\"{category}: {locations}\")"
   ]
  },
  {
   "cell_type": "code",
   "execution_count": null,
   "id": "db3571d0-3afd-4785-806a-a04afa954856",
   "metadata": {},
   "outputs": [],
   "source": []
  }
 ],
 "metadata": {
  "kernelspec": {
   "display_name": "Python 3 (ipykernel)",
   "language": "python",
   "name": "python3"
  },
  "language_info": {
   "codemirror_mode": {
    "name": "ipython",
    "version": 3
   },
   "file_extension": ".py",
   "mimetype": "text/x-python",
   "name": "python",
   "nbconvert_exporter": "python",
   "pygments_lexer": "ipython3",
   "version": "3.11.7"
  }
 },
 "nbformat": 4,
 "nbformat_minor": 5
}
