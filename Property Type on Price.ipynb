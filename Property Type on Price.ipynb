{
 "cells": [
  {
   "cell_type": "code",
   "execution_count": 138,
   "id": "d7059d83-1148-402b-90d8-6d004a420bd9",
   "metadata": {},
   "outputs": [],
   "source": [
    "%matplotlib inline"
   ]
  },
  {
   "cell_type": "code",
   "execution_count": 139,
   "id": "acce3a38-cb78-4d33-acc7-5e5bda5c3d80",
   "metadata": {},
   "outputs": [],
   "source": [
    "# Import Dependencies\n",
    "from pathlib import Path\n",
    "import pandas as pd\n",
    "import matplotlib.pyplot as plt\n",
    "import numpy as np\n",
    "from scipy import stats"
   ]
  },
  {
   "cell_type": "code",
   "execution_count": 140,
   "id": "b703cae4-ba03-4280-b33e-b5e1f09adfc4",
   "metadata": {},
   "outputs": [
    {
     "data": {
      "text/html": [
       "<div>\n",
       "<style scoped>\n",
       "    .dataframe tbody tr th:only-of-type {\n",
       "        vertical-align: middle;\n",
       "    }\n",
       "\n",
       "    .dataframe tbody tr th {\n",
       "        vertical-align: top;\n",
       "    }\n",
       "\n",
       "    .dataframe thead th {\n",
       "        text-align: right;\n",
       "    }\n",
       "</style>\n",
       "<table border=\"1\" class=\"dataframe\">\n",
       "  <thead>\n",
       "    <tr style=\"text-align: right;\">\n",
       "      <th></th>\n",
       "      <th>id</th>\n",
       "      <th>host_id</th>\n",
       "      <th>host_since</th>\n",
       "      <th>host_location</th>\n",
       "      <th>host_response_time</th>\n",
       "      <th>host_response_rate</th>\n",
       "      <th>host_acceptance_rate</th>\n",
       "      <th>host_is_superhost</th>\n",
       "      <th>host_has_profile_pic</th>\n",
       "      <th>host_identity_verified</th>\n",
       "      <th>...</th>\n",
       "      <th>review_scores_cleanliness</th>\n",
       "      <th>review_scores_checkin</th>\n",
       "      <th>review_scores_communication</th>\n",
       "      <th>review_scores_location</th>\n",
       "      <th>review_scores_value</th>\n",
       "      <th>calculated_host_listings_count</th>\n",
       "      <th>calculated_host_listings_count_entire_homes</th>\n",
       "      <th>calculated_host_listings_count_private_rooms</th>\n",
       "      <th>calculated_host_listings_count_shared_rooms</th>\n",
       "      <th>reviews_per_month</th>\n",
       "    </tr>\n",
       "  </thead>\n",
       "  <tbody>\n",
       "    <tr>\n",
       "      <th>0</th>\n",
       "      <td>572431386115618941</td>\n",
       "      <td>446636199</td>\n",
       "      <td>2022-02-24</td>\n",
       "      <td>St Kilda, Australia</td>\n",
       "      <td>within an hour</td>\n",
       "      <td>95%</td>\n",
       "      <td>99%</td>\n",
       "      <td>f</td>\n",
       "      <td>t</td>\n",
       "      <td>t</td>\n",
       "      <td>...</td>\n",
       "      <td>4.0</td>\n",
       "      <td>4.6</td>\n",
       "      <td>4.43</td>\n",
       "      <td>4.37</td>\n",
       "      <td>3.97</td>\n",
       "      <td>8</td>\n",
       "      <td>0</td>\n",
       "      <td>4</td>\n",
       "      <td>4</td>\n",
       "      <td>1.21</td>\n",
       "    </tr>\n",
       "    <tr>\n",
       "      <th>1</th>\n",
       "      <td>727686708237430703</td>\n",
       "      <td>382295537</td>\n",
       "      <td>2020-12-30</td>\n",
       "      <td>Melbourne, Australia</td>\n",
       "      <td>within a few hours</td>\n",
       "      <td>89%</td>\n",
       "      <td>57%</td>\n",
       "      <td>f</td>\n",
       "      <td>t</td>\n",
       "      <td>t</td>\n",
       "      <td>...</td>\n",
       "      <td>4.2</td>\n",
       "      <td>4.2</td>\n",
       "      <td>4.20</td>\n",
       "      <td>4.20</td>\n",
       "      <td>4.20</td>\n",
       "      <td>3</td>\n",
       "      <td>0</td>\n",
       "      <td>3</td>\n",
       "      <td>0</td>\n",
       "      <td>0.81</td>\n",
       "    </tr>\n",
       "    <tr>\n",
       "      <th>2</th>\n",
       "      <td>1051913801382467131</td>\n",
       "      <td>22860147</td>\n",
       "      <td>2014-10-22</td>\n",
       "      <td>Melbourne, Australia</td>\n",
       "      <td>within an hour</td>\n",
       "      <td>100%</td>\n",
       "      <td>99%</td>\n",
       "      <td>f</td>\n",
       "      <td>t</td>\n",
       "      <td>t</td>\n",
       "      <td>...</td>\n",
       "      <td>5.0</td>\n",
       "      <td>5.0</td>\n",
       "      <td>5.00</td>\n",
       "      <td>4.50</td>\n",
       "      <td>4.00</td>\n",
       "      <td>105</td>\n",
       "      <td>105</td>\n",
       "      <td>0</td>\n",
       "      <td>0</td>\n",
       "      <td>0.98</td>\n",
       "    </tr>\n",
       "    <tr>\n",
       "      <th>3</th>\n",
       "      <td>1106234039745058155</td>\n",
       "      <td>16365362</td>\n",
       "      <td>2014-06-04</td>\n",
       "      <td>Melbourne, Australia</td>\n",
       "      <td>within an hour</td>\n",
       "      <td>100%</td>\n",
       "      <td>100%</td>\n",
       "      <td>f</td>\n",
       "      <td>t</td>\n",
       "      <td>t</td>\n",
       "      <td>...</td>\n",
       "      <td>5.0</td>\n",
       "      <td>5.0</td>\n",
       "      <td>5.00</td>\n",
       "      <td>5.00</td>\n",
       "      <td>5.00</td>\n",
       "      <td>1</td>\n",
       "      <td>0</td>\n",
       "      <td>1</td>\n",
       "      <td>0</td>\n",
       "      <td>1.00</td>\n",
       "    </tr>\n",
       "    <tr>\n",
       "      <th>4</th>\n",
       "      <td>1053974246558615906</td>\n",
       "      <td>551937839</td>\n",
       "      <td>2023-12-21</td>\n",
       "      <td>Point Cook, Australia</td>\n",
       "      <td>within an hour</td>\n",
       "      <td>97%</td>\n",
       "      <td>94%</td>\n",
       "      <td>f</td>\n",
       "      <td>t</td>\n",
       "      <td>t</td>\n",
       "      <td>...</td>\n",
       "      <td>4.0</td>\n",
       "      <td>3.5</td>\n",
       "      <td>4.00</td>\n",
       "      <td>4.00</td>\n",
       "      <td>5.00</td>\n",
       "      <td>7</td>\n",
       "      <td>7</td>\n",
       "      <td>0</td>\n",
       "      <td>0</td>\n",
       "      <td>2.00</td>\n",
       "    </tr>\n",
       "  </tbody>\n",
       "</table>\n",
       "<p>5 rows × 39 columns</p>\n",
       "</div>"
      ],
      "text/plain": [
       "                    id    host_id  host_since          host_location  \\\n",
       "0   572431386115618941  446636199  2022-02-24    St Kilda, Australia   \n",
       "1   727686708237430703  382295537  2020-12-30   Melbourne, Australia   \n",
       "2  1051913801382467131   22860147  2014-10-22   Melbourne, Australia   \n",
       "3  1106234039745058155   16365362  2014-06-04   Melbourne, Australia   \n",
       "4  1053974246558615906  551937839  2023-12-21  Point Cook, Australia   \n",
       "\n",
       "   host_response_time host_response_rate host_acceptance_rate  \\\n",
       "0      within an hour                95%                  99%   \n",
       "1  within a few hours                89%                  57%   \n",
       "2      within an hour               100%                  99%   \n",
       "3      within an hour               100%                 100%   \n",
       "4      within an hour                97%                  94%   \n",
       "\n",
       "  host_is_superhost host_has_profile_pic host_identity_verified  ...  \\\n",
       "0                 f                    t                      t  ...   \n",
       "1                 f                    t                      t  ...   \n",
       "2                 f                    t                      t  ...   \n",
       "3                 f                    t                      t  ...   \n",
       "4                 f                    t                      t  ...   \n",
       "\n",
       "  review_scores_cleanliness  review_scores_checkin  \\\n",
       "0                       4.0                    4.6   \n",
       "1                       4.2                    4.2   \n",
       "2                       5.0                    5.0   \n",
       "3                       5.0                    5.0   \n",
       "4                       4.0                    3.5   \n",
       "\n",
       "   review_scores_communication review_scores_location review_scores_value  \\\n",
       "0                         4.43                   4.37                3.97   \n",
       "1                         4.20                   4.20                4.20   \n",
       "2                         5.00                   4.50                4.00   \n",
       "3                         5.00                   5.00                5.00   \n",
       "4                         4.00                   4.00                5.00   \n",
       "\n",
       "   calculated_host_listings_count  \\\n",
       "0                               8   \n",
       "1                               3   \n",
       "2                             105   \n",
       "3                               1   \n",
       "4                               7   \n",
       "\n",
       "   calculated_host_listings_count_entire_homes  \\\n",
       "0                                            0   \n",
       "1                                            0   \n",
       "2                                          105   \n",
       "3                                            0   \n",
       "4                                            7   \n",
       "\n",
       "  calculated_host_listings_count_private_rooms  \\\n",
       "0                                            4   \n",
       "1                                            3   \n",
       "2                                            0   \n",
       "3                                            1   \n",
       "4                                            0   \n",
       "\n",
       "   calculated_host_listings_count_shared_rooms  reviews_per_month  \n",
       "0                                            4               1.21  \n",
       "1                                            0               0.81  \n",
       "2                                            0               0.98  \n",
       "3                                            0               1.00  \n",
       "4                                            0               2.00  \n",
       "\n",
       "[5 rows x 39 columns]"
      ]
     },
     "execution_count": 140,
     "metadata": {},
     "output_type": "execute_result"
    }
   ],
   "source": [
    "# Create a path to the file.\n",
    "Melb_Airbnb = Path(\"Outputs/Melbourne_refined_listings_cleaned.csv\")                                                                                                  \n",
    "\n",
    "# Read and display the CSV with Pandas\n",
    "Melb_Airbnb_df = pd.read_csv(Melb_Airbnb)\n",
    "Melb_Airbnb_df.head() "
   ]
  },
  {
   "cell_type": "code",
   "execution_count": 141,
   "id": "8b36bd78-891f-4a70-9424-5ed47750be6d",
   "metadata": {},
   "outputs": [],
   "source": [
    "#STEP 2: DATA CLEANING & PREPARATION"
   ]
  },
  {
   "cell_type": "code",
   "execution_count": 142,
   "id": "8b93f1b7-616c-43e7-a942-4f15725283c6",
   "metadata": {},
   "outputs": [
    {
     "name": "stdout",
     "output_type": "stream",
     "text": [
      "id                                              0\n",
      "host_id                                         0\n",
      "host_since                                      0\n",
      "host_location                                   0\n",
      "host_response_time                              0\n",
      "host_response_rate                              0\n",
      "host_acceptance_rate                            0\n",
      "host_is_superhost                               0\n",
      "host_has_profile_pic                            0\n",
      "host_identity_verified                          0\n",
      "neighbourhood_cleansed                          0\n",
      "latitude                                        0\n",
      "longitude                                       0\n",
      "property_type                                   0\n",
      "room_type                                       0\n",
      "accommodates                                    0\n",
      "bathrooms                                       0\n",
      "bathrooms_text                                  0\n",
      "bedrooms                                        0\n",
      "beds                                            0\n",
      "amenities                                       0\n",
      "price                                           0\n",
      "number_of_reviews                               0\n",
      "number_of_reviews_ltm                           0\n",
      "number_of_reviews_l30d                          0\n",
      "first_review                                    0\n",
      "last_review                                     0\n",
      "review_scores_rating                            0\n",
      "review_scores_accuracy                          0\n",
      "review_scores_cleanliness                       0\n",
      "review_scores_checkin                           0\n",
      "review_scores_communication                     0\n",
      "review_scores_location                          0\n",
      "review_scores_value                             0\n",
      "calculated_host_listings_count                  0\n",
      "calculated_host_listings_count_entire_homes     0\n",
      "calculated_host_listings_count_private_rooms    0\n",
      "calculated_host_listings_count_shared_rooms     0\n",
      "reviews_per_month                               0\n",
      "dtype: int64\n",
      "id                                                int64\n",
      "host_id                                           int64\n",
      "host_since                                       object\n",
      "host_location                                    object\n",
      "host_response_time                               object\n",
      "host_response_rate                               object\n",
      "host_acceptance_rate                             object\n",
      "host_is_superhost                                object\n",
      "host_has_profile_pic                             object\n",
      "host_identity_verified                           object\n",
      "neighbourhood_cleansed                           object\n",
      "latitude                                        float64\n",
      "longitude                                       float64\n",
      "property_type                                    object\n",
      "room_type                                        object\n",
      "accommodates                                      int64\n",
      "bathrooms                                       float64\n",
      "bathrooms_text                                   object\n",
      "bedrooms                                        float64\n",
      "beds                                            float64\n",
      "amenities                                        object\n",
      "price                                           float64\n",
      "number_of_reviews                                 int64\n",
      "number_of_reviews_ltm                             int64\n",
      "number_of_reviews_l30d                            int64\n",
      "first_review                                     object\n",
      "last_review                                      object\n",
      "review_scores_rating                            float64\n",
      "review_scores_accuracy                          float64\n",
      "review_scores_cleanliness                       float64\n",
      "review_scores_checkin                           float64\n",
      "review_scores_communication                     float64\n",
      "review_scores_location                          float64\n",
      "review_scores_value                             float64\n",
      "calculated_host_listings_count                    int64\n",
      "calculated_host_listings_count_entire_homes       int64\n",
      "calculated_host_listings_count_private_rooms      int64\n",
      "calculated_host_listings_count_shared_rooms       int64\n",
      "reviews_per_month                               float64\n",
      "dtype: object\n"
     ]
    }
   ],
   "source": [
    "# Check for missing values\n",
    "print(Melb_Airbnb_df.isnull().sum())\n",
    "\n",
    "# Drop rows with missing values in 'price' & 'property_type' columns\n",
    "Melb_Airbnb_df = Melb_Airbnb_df.dropna(subset=['price', 'property_type'])\n",
    "\n",
    "# Convert price to numeric if it's not already \n",
    "Melb_Airbnb_df['price'] = pd.to_numeric(Melb_Airbnb_df['price'], errors='coerce') #errors='coerce' to convert invalid values to NaN, ensuring clean numeric data and better data handling\n",
    "\n",
    "# Check the data types\n",
    "print(Melb_Airbnb_df.dtypes)"
   ]
  },
  {
   "cell_type": "code",
   "execution_count": 143,
   "id": "eb039f53-57bd-4b18-bc04-caa7a145d23f",
   "metadata": {},
   "outputs": [],
   "source": [
    "# Convert price to numeric \n",
    "Melb_Airbnb_df['price'] = pd.to_numeric(Melb_Airbnb_df['price'], errors='coerce') #errors='coerce' to convert invalid values to NaN, ensuring clean numeric data and better data handling"
   ]
  },
  {
   "cell_type": "code",
   "execution_count": 144,
   "id": "0b8359fb-ee72-4a46-bc0a-bc16ddbe6c10",
   "metadata": {},
   "outputs": [
    {
     "name": "stdout",
     "output_type": "stream",
     "text": [
      "0    NaN\n",
      "1    NaN\n",
      "2    NaN\n",
      "3    NaN\n",
      "4    NaN\n",
      "5    NaN\n",
      "6    NaN\n",
      "7    NaN\n",
      "8    NaN\n",
      "9    NaN\n",
      "10   NaN\n",
      "11   NaN\n",
      "12   NaN\n",
      "13   NaN\n",
      "14   NaN\n",
      "15   NaN\n",
      "16   NaN\n",
      "17   NaN\n",
      "18   NaN\n",
      "19   NaN\n",
      "Name: price, dtype: float64\n"
     ]
    }
   ],
   "source": [
    "# Inspecting the first few rows of the 'price' column\n",
    "print(Melb_Airbnb_df['price'].head(20))"
   ]
  },
  {
   "cell_type": "code",
   "execution_count": 146,
   "id": "966bdb2c-988f-4e47-b5f4-066c1f5f9151",
   "metadata": {},
   "outputs": [
    {
     "name": "stdout",
     "output_type": "stream",
     "text": [
      "[nan]\n"
     ]
    }
   ],
   "source": [
    "# Print the unique values in the 'price' column to diagnose the issue\n",
    "print(Melb_Airbnb_df['price'].unique())"
   ]
  },
  {
   "cell_type": "code",
   "execution_count": 147,
   "id": "86aed8dd-31af-43ca-9506-acc171c9f91c",
   "metadata": {},
   "outputs": [
    {
     "name": "stdout",
     "output_type": "stream",
     "text": [
      "0    NaN\n",
      "1    NaN\n",
      "2    NaN\n",
      "3    NaN\n",
      "4    NaN\n",
      "5    NaN\n",
      "6    NaN\n",
      "7    NaN\n",
      "8    NaN\n",
      "9    NaN\n",
      "10   NaN\n",
      "11   NaN\n",
      "12   NaN\n",
      "13   NaN\n",
      "14   NaN\n",
      "15   NaN\n",
      "16   NaN\n",
      "17   NaN\n",
      "18   NaN\n",
      "19   NaN\n",
      "Name: price, dtype: float64\n"
     ]
    }
   ],
   "source": [
    "# If the 'price' column contains symbols like $, remove them\n",
    "Melb_Airbnb_df['price'] = Melb_Airbnb_df['price'].replace('[\\$,]', '', regex=True)\n",
    "\n",
    "# Convert 'price' to numeric\n",
    "Melb_Airbnb_df['price'] = pd.to_numeric(Melb_Airbnb_df['price'], errors='coerce')\n",
    "\n",
    "# Inspect the first few rows of the 'price' column\n",
    "print(Melb_Airbnb_df['price'].head(20))"
   ]
  },
  {
   "cell_type": "code",
   "execution_count": 148,
   "id": "5a5e5c65-9064-44d8-acaf-28380661704e",
   "metadata": {},
   "outputs": [
    {
     "name": "stdout",
     "output_type": "stream",
     "text": [
      "0     $123.00\n",
      "1      $50.00\n",
      "2     $166.00\n",
      "3     $120.00\n",
      "4     $202.00\n",
      "5      $80.00\n",
      "6     $579.00\n",
      "7      $75.00\n",
      "8     $104.00\n",
      "9      $55.00\n",
      "10    $171.00\n",
      "11    $175.00\n",
      "12    $150.00\n",
      "13     $50.00\n",
      "14    $235.00\n",
      "15    $284.00\n",
      "16    $968.00\n",
      "17    $600.00\n",
      "18    $220.00\n",
      "19    $231.00\n",
      "Name: price, dtype: object\n"
     ]
    }
   ],
   "source": [
    "# Define the correct path to the CSV file\n",
    "file_path = 'Outputs/Melbourne_refined_listings_cleaned.csv'\n",
    "\n",
    "# Read the CSV file without inferring data types\n",
    "Melb_Airbnb_df = pd.read_csv(file_path, dtype=str)\n",
    "\n",
    "# Print the first few rows of the 'price' column to inspect its raw values\n",
    "print(Melb_Airbnb_df['price'].head(20))"
   ]
  },
  {
   "cell_type": "code",
   "execution_count": 149,
   "id": "4bee83da-9908-4d91-b2ca-559b74a40ae4",
   "metadata": {},
   "outputs": [
    {
     "name": "stdout",
     "output_type": "stream",
     "text": [
      "0     123.0\n",
      "1      50.0\n",
      "2     166.0\n",
      "3     120.0\n",
      "4     202.0\n",
      "5      80.0\n",
      "6     579.0\n",
      "7      75.0\n",
      "8     104.0\n",
      "9      55.0\n",
      "10    171.0\n",
      "11    175.0\n",
      "12    150.0\n",
      "13     50.0\n",
      "14    235.0\n",
      "15    284.0\n",
      "16    968.0\n",
      "17    600.0\n",
      "18    220.0\n",
      "19    231.0\n",
      "Name: price, dtype: float64\n"
     ]
    }
   ],
   "source": [
    "# Ensure the 'price' column is read as a string and clean the values\n",
    "Melb_Airbnb_df['price'] = Melb_Airbnb_df['price'].astype(str).str.strip().str.replace('$', '').str.replace(',', '')\n",
    "\n",
    "# Convert the 'price' column to numeric\n",
    "Melb_Airbnb_df['price'] = pd.to_numeric(Melb_Airbnb_df['price'], errors='coerce')\n",
    "\n",
    "# Verify the conversion by inspecting the first few rows of the 'price' column\n",
    "print(Melb_Airbnb_df['price'].head(20))\n"
   ]
  },
  {
   "cell_type": "code",
   "execution_count": 150,
   "id": "f836871b-504a-4b94-8405-8acc32eb4ae3",
   "metadata": {},
   "outputs": [],
   "source": [
    "# STEP 3: EXPLORATORY DATA ANALYSIS"
   ]
  },
  {
   "cell_type": "code",
   "execution_count": 145,
   "id": "fd2645d0-5d29-4bfe-913f-fac89a5dfdfa",
   "metadata": {},
   "outputs": [
    {
     "data": {
      "text/plain": [
       "70"
      ]
     },
     "execution_count": 145,
     "metadata": {},
     "output_type": "execute_result"
    }
   ],
   "source": [
    "Melb_Airbnb_df['property_type'].nunique()"
   ]
  },
  {
   "cell_type": "code",
   "execution_count": 176,
   "id": "aa702b1d-2d5d-49ef-ae9d-e466826a59e6",
   "metadata": {},
   "outputs": [
    {
     "data": {
      "image/png": "[encoded data removed]",
      "text/plain": [
       "<Figure size 800x500 with 1 Axes>"
      ]
     },
     "metadata": {},
     "output_type": "display_data"
    }
   ],
   "source": [
    "# Define x and y values for top 5 property types\n",
    "property_counts = Melb_Airbnb_df['property_type'].value_counts().nlargest(5)\n",
    "x_axis = property_counts.index\n",
    "y_axis = property_counts.values\n",
    "\n",
    "\n",
    "# Distribution of property types via Bar graph\n",
    "plt.figure(figsize=(8, 5))\n",
    "plt.bar(x_axis, y_axis, color='b', alpha=0.5, align='center')\n",
    "plt.title('Distribution of Property Types')\n",
    "plt.xlabel('Property Type')\n",
    "plt.ylabel('Count')\n",
    "\n",
    "  #tick locations\n",
    "tick_locations = [value for value in x_axis]\n",
    "plt.xticks(tick_locations, rotation=90)\n",
    "\n",
    "plt.show()"
   ]
  },
  {
   "cell_type": "code",
   "execution_count": 177,
   "id": "ac06f126-25f8-437a-9c15-6e593f31cf43",
   "metadata": {},
   "outputs": [
    {
     "name": "stderr",
     "output_type": "stream",
     "text": [
      "C:\\Users\\rheak\\AppData\\Local\\Temp\\ipykernel_24168\\3371292011.py:15: DeprecationWarning: DataFrameGroupBy.apply operated on the grouping columns. This behavior is deprecated, and in a future version of pandas the grouping columns will be excluded from the operation. Either pass `include_groups=False` to exclude the groupings or explicitly select the grouping columns after groupby to silence this warning.\n",
      "  filtered_data = top_5_property_types.groupby('property_type', group_keys=False).apply(remove_outliers, 'price').reset_index(drop=True)\n"
     ]
    },
    {
     "data": {
      "text/plain": [
       "<Figure size 1200x800 with 0 Axes>"
      ]
     },
     "metadata": {},
     "output_type": "display_data"
    },
    {
     "data": {
      "image/png": "[encoded data removed]",
      "text/plain": [
       "<Figure size 640x480 with 1 Axes>"
      ]
     },
     "metadata": {},
     "output_type": "display_data"
    }
   ],
   "source": [
    "# If the 'price' column contains symbols like $, remove them\n",
    "Melb_Airbnb_df['price'] = Melb_Airbnb_df['price'].replace('[\\$,]', '', regex=True)\n",
    "\n",
    "# Convert 'price' to numeric\n",
    "Melb_Airbnb_df['price'] = pd.to_numeric(Melb_Airbnb_df['price'], errors='coerce')\n",
    "\n",
    "\n",
    "# Filter out outliers for each property type\n",
    "def remove_outliers(df, column):\n",
    "    Q1 = df[column].quantile(0.25)\n",
    "    Q3 = df[column].quantile(0.75)\n",
    "    IQR = Q3 - Q1\n",
    "    return df[~((df[column] < (Q1 - 1.5 * IQR)) | (df[column] > (Q3 + 1.5 * IQR)))]\n",
    "\n",
    "filtered_data = top_5_property_types.groupby('property_type', group_keys=False).apply(remove_outliers, 'price').reset_index(drop=True)\n",
    "\n",
    "# Boxplot of prices by top 5 property types without outliers\n",
    "plt.figure(figsize=(12, 8))\n",
    "filtered_data.boxplot(column='price', by='property_type', grid=False, showmeans=True)\n",
    "plt.title('Price Distribution by Top 5 Property Types (Outliers Removed)')\n",
    "plt.xlabel('Property Type')\n",
    "plt.ylabel('Price')\n",
    "plt.suptitle('')  # Suppress the default title to clean up the plot\n",
    "\n",
    "# Ensure the labels are correctly aligned with the plots\n",
    "plt.xticks(range(1, len(x_axis) + 1), x_axis, rotation=45, ha='right')\n",
    "\n",
    "\n",
    "plt.show()"
   ]
  },
  {
   "cell_type": "code",
   "execution_count": null,
   "id": "6a7d2e9e-2d96-451c-8dd6-6fdfe404061a",
   "metadata": {},
   "outputs": [],
   "source": [
    "# STEP 4: HYPOTHESIS TESTING USING ANOVA "
   ]
  },
  {
   "cell_type": "code",
   "execution_count": 154,
   "id": "32aee90c-4341-446d-a312-16fa362e4802",
   "metadata": {},
   "outputs": [
    {
     "name": "stdout",
     "output_type": "stream",
     "text": [
      "F-statistic: 25.103623305388094\n",
      "P-value: 4.2067509199991343e-290\n",
      "There is a significant difference in prices across different property types.\n"
     ]
    }
   ],
   "source": [
    "# Extract prices for each property type\n",
    "property_types = Melb_Airbnb_df['property_type'].unique()\n",
    "prices_by_property_type = [Melb_Airbnb_df[Melb_Airbnb_df['property_type'] == property_type]['price'] for property_type in property_types]\n",
    "\n",
    "# Perform ANOVA\n",
    "f_stat, p_value = stats.f_oneway(*prices_by_property_type)\n",
    "\n",
    "print(f\"F-statistic: {f_stat}\")\n",
    "print(f\"P-value: {p_value}\")\n",
    "\n",
    "if p_value < 0.05:\n",
    "    print(\"There is a significant difference in prices across different property types.\")\n",
    "else:\n",
    "    print(\"There is no significant difference in prices across different property types.\")"
   ]
  },
  {
   "cell_type": "code",
   "execution_count": null,
   "id": "3e502f33-d0fa-49ff-a595-bc240832732a",
   "metadata": {},
   "outputs": [],
   "source": [
    "# STEP 5: VISUALISE THE RESULTS "
   ]
  },
  {
   "cell_type": "code",
   "execution_count": 165,
   "id": "7dc7292c-282d-470e-93aa-7700d9fa688f",
   "metadata": {},
   "outputs": [
    {
     "data": {
      "image/png": "[encoded data removed]",
      "text/plain": [
       "<Figure size 1200x800 with 1 Axes>"
      ]
     },
     "metadata": {},
     "output_type": "display_data"
    }
   ],
   "source": [
    "# Get the top 5 most popular property types\n",
    "top_5_property_types = Melb_Airbnb_df['property_type'].value_counts().nlargest(5).index\n",
    "\n",
    "# Calculate average price for each of the top 5 property types\n",
    "average_prices = Melb_Airbnb_df[Melb_Airbnb_df['property_type'].isin(top_5_property_types)].groupby('property_type')['price'].mean().sort_values(ascending=False)\n",
    "\n",
    "# Bar chart of average prices by top 5 most popular property types\n",
    "plt.figure(figsize=(12, 8))\n",
    "average_prices.plot(kind='bar')\n",
    "plt.title('Average Price by Top 5 Most Popular Property Types')\n",
    "plt.xlabel('Property Type')\n",
    "plt.ylabel('Average Price')\n",
    "plt.xticks(rotation=0)\n",
    "plt.show()"
   ]
  },
  {
   "cell_type": "code",
   "execution_count": null,
   "id": "909a15fa-84a8-4b41-a94a-d814517ef380",
   "metadata": {},
   "outputs": [],
   "source": []
  }
 ],
 "metadata": {
  "kernelspec": {
   "display_name": "Python 3 (ipykernel)",
   "language": "python",
   "name": "python3"
  },
  "language_info": {
   "codemirror_mode": {
    "name": "ipython",
    "version": 3
   },
   "file_extension": ".py",
   "mimetype": "text/x-python",
   "name": "python",
   "nbconvert_exporter": "python",
   "pygments_lexer": "ipython3",
   "version": "3.10.14"
  }
 },
 "nbformat": 4,
 "nbformat_minor": 5
}
